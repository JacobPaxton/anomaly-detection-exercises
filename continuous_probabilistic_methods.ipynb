{
 "cells": [
  {
   "cell_type": "code",
   "execution_count": 1,
   "id": "70046186",
   "metadata": {},
   "outputs": [],
   "source": [
    "import numpy as np\n",
    "import pandas as pd\n",
    "import seaborn as sns\n",
    "import matplotlib.pyplot as plt"
   ]
  },
  {
   "cell_type": "markdown",
   "id": "bbc5881f",
   "metadata": {},
   "source": [
    "1. Define a function named get_lower_and_upper_bounds that has two arguments. The first argument is a pandas Series. The second argument is the multiplier, which should have a default argument of 1.5."
   ]
  },
  {
   "cell_type": "code",
   "execution_count": 2,
   "id": "391ff3fd",
   "metadata": {},
   "outputs": [],
   "source": [
    "def get_lower_and_upper_bounds(s, multiplier):\n",
    "    q1, q3 = s.quantile([.25, .75])\n",
    "    iqr = q3 - q1\n",
    "    upper = q3 + multiplier * iqr\n",
    "    lower = q1 - multiplier * iqr\n",
    "    return upper, lower"
   ]
  },
  {
   "cell_type": "markdown",
   "id": "f83d30e4",
   "metadata": {},
   "source": [
    "2. Using lemonade.csv dataset and focusing on continuous variables:\n",
    "    * Use the IQR Range Rule and the upper and lower bounds to identify the lower outliers of each column of lemonade.csv, using the multiplier of 1.5. Do these lower outliers make sense? Which outliers should be kept?\n",
    "    * Use the IQR Range Rule and the upper and upper bounds to identify the upper outliers of each column of lemonade.csv, using the multiplier of 1.5. Do these upper outliers make sense? Which outliers should be kept?\n",
    "    * Using the multiplier of 3, IQR Range Rule, and the lower bounds, identify the outliers below the lower bound in each colum of lemonade.csv. Do these lower outliers make sense? Which outliers should be kept?\n",
    "    * Using the multiplier of 3, IQR Range Rule, and the upper bounds, identify the outliers above the upper_bound in each colum of lemonade.csv. Do these upper outliers make sense? Which outliers should be kept?"
   ]
  },
  {
   "cell_type": "code",
   "execution_count": 3,
   "id": "ae7e88d0",
   "metadata": {},
   "outputs": [
    {
     "data": {
      "text/html": [
       "<div>\n",
       "<style scoped>\n",
       "    .dataframe tbody tr th:only-of-type {\n",
       "        vertical-align: middle;\n",
       "    }\n",
       "\n",
       "    .dataframe tbody tr th {\n",
       "        vertical-align: top;\n",
       "    }\n",
       "\n",
       "    .dataframe thead th {\n",
       "        text-align: right;\n",
       "    }\n",
       "</style>\n",
       "<table border=\"1\" class=\"dataframe\">\n",
       "  <thead>\n",
       "    <tr style=\"text-align: right;\">\n",
       "      <th></th>\n",
       "      <th>Date</th>\n",
       "      <th>Day</th>\n",
       "      <th>Temperature</th>\n",
       "      <th>Rainfall</th>\n",
       "      <th>Flyers</th>\n",
       "      <th>Price</th>\n",
       "      <th>Sales</th>\n",
       "    </tr>\n",
       "  </thead>\n",
       "  <tbody>\n",
       "    <tr>\n",
       "      <th>0</th>\n",
       "      <td>1/1/17</td>\n",
       "      <td>Sunday</td>\n",
       "      <td>27.0</td>\n",
       "      <td>2.00</td>\n",
       "      <td>15</td>\n",
       "      <td>0.5</td>\n",
       "      <td>10</td>\n",
       "    </tr>\n",
       "    <tr>\n",
       "      <th>1</th>\n",
       "      <td>1/2/17</td>\n",
       "      <td>Monday</td>\n",
       "      <td>28.9</td>\n",
       "      <td>1.33</td>\n",
       "      <td>15</td>\n",
       "      <td>0.5</td>\n",
       "      <td>13</td>\n",
       "    </tr>\n",
       "  </tbody>\n",
       "</table>\n",
       "</div>"
      ],
      "text/plain": [
       "     Date     Day  Temperature  Rainfall  Flyers  Price  Sales\n",
       "0  1/1/17  Sunday         27.0      2.00      15    0.5     10\n",
       "1  1/2/17  Monday         28.9      1.33      15    0.5     13"
      ]
     },
     "execution_count": 3,
     "metadata": {},
     "output_type": "execute_result"
    }
   ],
   "source": [
    "df = pd.read_csv('lemonade.csv')\n",
    "df.head(2)"
   ]
  },
  {
   "cell_type": "code",
   "execution_count": 4,
   "id": "9a0cc4c0",
   "metadata": {},
   "outputs": [
    {
     "data": {
      "text/plain": [
       "<AxesSubplot:>"
      ]
     },
     "execution_count": 4,
     "metadata": {},
     "output_type": "execute_result"
    },
    {
     "data": {
      "image/png": "[encoded data removed]",
      "text/plain": [
       "<Figure size 432x288 with 1 Axes>"
      ]
     },
     "metadata": {
      "needs_background": "light"
     },
     "output_type": "display_data"
    }
   ],
   "source": [
    "df.Sales.plot()"
   ]
  },
  {
   "cell_type": "code",
   "execution_count": 5,
   "id": "f90789a1",
   "metadata": {},
   "outputs": [
    {
     "name": "stdout",
     "output_type": "stream",
     "text": [
      "         Date        Day  Temperature  Rainfall  Flyers  Price  Sales\n",
      "0      1/1/17     Sunday         27.0      2.00      15    0.5     10\n",
      "1      1/2/17     Monday         28.9      1.33      15    0.5     13\n",
      "2      1/3/17    Tuesday         34.5      1.33      27    0.5     15\n",
      "5      1/6/17     Friday         25.3      1.54      23    0.5     11\n",
      "6      1/7/17   Saturday         32.9      1.54      19    0.5     13\n",
      "10    1/11/17  Wednesday         32.6      1.54      23    0.5     12\n",
      "11    1/12/17   Thursday         38.2      1.33      16    0.5     14\n",
      "12    1/13/17     Friday         37.5      1.33      19    0.5     15\n",
      "15    1/16/17     Monday         30.6      1.67      24    0.5     12\n",
      "16    1/17/17    Tuesday         32.2      1.43      26    0.5     14\n",
      "19    1/20/17     Friday         31.6      1.43      20    0.5     12\n",
      "23    1/24/17    Tuesday         28.6      1.54      20    0.5     12\n",
      "27    1/28/17   Saturday         34.9      1.33      15    0.5     13\n",
      "28    1/29/17     Sunday         35.2      1.33      27    0.5     14\n",
      "337   12/4/17     Monday         34.9      1.54      16    0.5     13\n",
      "338   12/5/17    Tuesday         22.0      1.82      11    0.5     10\n",
      "342   12/9/17   Saturday         31.2      1.43      19    0.5     14\n",
      "343  12/10/17     Sunday         31.3      1.82      15    0.5     11\n",
      "345  12/12/17    Tuesday         33.5      1.33      22    0.5     15\n",
      "346  12/13/17  Wednesday         32.2      1.43      26    0.5     14\n",
      "347  12/14/17   Thursday         31.9      1.54      24    0.5     13\n",
      "350  12/17/17     Sunday         32.2      1.33      16    0.5     14\n",
      "351  12/18/17     Monday         30.9      1.43      27    0.5     13\n",
      "354  12/21/17   Thursday         40.5      1.33      23    0.5     15\n",
      "355  12/22/17     Friday         30.9      1.54      17    0.5     13\n",
      "359  12/26/17    Tuesday         28.9      1.43      23    0.5     13\n",
      "363  12/30/17   Saturday         30.9      1.43      22    0.5     13\n",
      "364  12/31/17     Sunday         15.1      2.50       9    0.5      7\n",
      "Empty DataFrame\n",
      "Columns: [Date, Day, Temperature, Rainfall, Flyers, Price, Sales]\n",
      "Index: []\n",
      "         Date      Day  Temperature  Rainfall  Flyers  Price  Sales\n",
      "0      1/1/17   Sunday         27.0      2.00      15    0.5     10\n",
      "338   12/5/17  Tuesday         22.0      1.82      11    0.5     10\n",
      "343  12/10/17   Sunday         31.3      1.82      15    0.5     11\n",
      "364  12/31/17   Sunday         15.1      2.50       9    0.5      7\n",
      "Empty DataFrame\n",
      "Columns: [Date, Day, Temperature, Rainfall, Flyers, Price, Sales]\n",
      "Index: []\n"
     ]
    }
   ],
   "source": [
    "upper_bound_inner, lower_bound_inner = get_lower_and_upper_bounds(df.Rainfall, 1.5)\n",
    "upper_bound_outer, lower_bound_outer = get_lower_and_upper_bounds(df.Rainfall, 3)\n",
    "print(df[df.Rainfall > upper_bound_inner])\n",
    "print(df[df.Rainfall < lower_bound_inner])\n",
    "print(df[df.Rainfall > upper_bound_outer])\n",
    "print(df[df.Rainfall < lower_bound_inner])"
   ]
  },
  {
   "cell_type": "markdown",
   "id": "b1a79b3b",
   "metadata": {},
   "source": [
    "3. Identify if any columns in lemonade.csv are normally distributed. For normally distributed columns:\n",
    "    * Use a 2 sigma decision rule to isolate the outliers.\n",
    "        * Do these make sense?\n",
    "        * Should certain outliers be kept or removed?"
   ]
  },
  {
   "cell_type": "code",
   "execution_count": 6,
   "id": "fb972edf",
   "metadata": {
    "collapsed": true
   },
   "outputs": [
    {
     "data": {
      "image/png": "[encoded data removed]",
      "text/plain": [
       "<Figure size 432x288 with 1 Axes>"
      ]
     },
     "metadata": {
      "needs_background": "light"
     },
     "output_type": "display_data"
    },
    {
     "data": {
      "image/png": "[encoded data removed]",
      "text/plain": [
       "<Figure size 432x288 with 1 Axes>"
      ]
     },
     "metadata": {
      "needs_background": "light"
     },
     "output_type": "display_data"
    },
    {
     "data": {
      "image/png": "[encoded data removed]",
      "text/plain": [
       "<Figure size 432x288 with 1 Axes>"
      ]
     },
     "metadata": {
      "needs_background": "light"
     },
     "output_type": "display_data"
    },
    {
     "data": {
      "image/png": "[encoded data removed]",
      "text/plain": [
       "<Figure size 432x288 with 1 Axes>"
      ]
     },
     "metadata": {
      "needs_background": "light"
     },
     "output_type": "display_data"
    },
    {
     "data": {
      "image/png": "[encoded data removed]",
      "text/plain": [
       "<Figure size 432x288 with 1 Axes>"
      ]
     },
     "metadata": {
      "needs_background": "light"
     },
     "output_type": "display_data"
    },
    {
     "data": {
      "image/png": "[encoded data removed]",
      "text/plain": [
       "<Figure size 432x288 with 1 Axes>"
      ]
     },
     "metadata": {
      "needs_background": "light"
     },
     "output_type": "display_data"
    },
    {
     "data": {
      "image/png": "[encoded data removed]",
      "text/plain": [
       "<Figure size 432x288 with 1 Axes>"
      ]
     },
     "metadata": {
      "needs_background": "light"
     },
     "output_type": "display_data"
    }
   ],
   "source": [
    "for col in df.columns:\n",
    "    sns.histplot(df[col])\n",
    "    plt.show() # Temperature, Rainfall, Flyers, and Sales all normally distributed"
   ]
  },
  {
   "cell_type": "code",
   "execution_count": 7,
   "id": "5d8313c7",
   "metadata": {},
   "outputs": [
    {
     "name": "stdout",
     "output_type": "stream",
     "text": [
      "41     8.336627\n",
      "166    2.105251\n",
      "176    2.287714\n",
      "181    2.304301\n",
      "190    2.033372\n",
      "198    2.105251\n",
      "202    2.121838\n",
      "207    2.027843\n",
      "338   -2.168799\n",
      "364   -2.550311\n",
      "Name: zscore_Temperature, dtype: float64\n",
      "0      4.286488\n",
      "5      2.606983\n",
      "6      2.606983\n",
      "10     2.606983\n",
      "15     3.081626\n",
      "16     2.205363\n",
      "19     2.205363\n",
      "23     2.606983\n",
      "337    2.606983\n",
      "338    3.629291\n",
      "342    2.205363\n",
      "343    3.629291\n",
      "346    2.205363\n",
      "347    2.606983\n",
      "351    2.205363\n",
      "355    2.606983\n",
      "359    2.205363\n",
      "363    2.205363\n",
      "364    6.112037\n",
      "Name: zscore_Rainfall, dtype: float64\n",
      "166    2.676244\n",
      "170    2.168499\n",
      "171    2.603709\n",
      "182    2.023429\n",
      "183    2.023429\n",
      "194    2.893849\n",
      "198    2.603709\n",
      "203    2.313569\n",
      "204    2.095964\n",
      "207    2.458639\n",
      "324   -5.665283\n",
      "338   -2.111067\n",
      "364   -2.256137\n",
      "Name: zscore_Flyers, dtype: float64\n",
      "181     3.720233\n",
      "182     4.204914\n",
      "183     6.692948\n",
      "184    16.354275\n",
      "Name: zscore_Sales, dtype: float64\n"
     ]
    }
   ],
   "source": [
    "col_list = ['Temperature','Rainfall','Flyers','Sales']\n",
    "for col in col_list:\n",
    "    df['zscore_' + col] = (df[col] - df[col].mean()) / df[col].std()\n",
    "for col in df.columns[7:]:\n",
    "    print(df[df[col].abs() > 2][col])"
   ]
  },
  {
   "cell_type": "markdown",
   "id": "c5d66866",
   "metadata": {},
   "source": [
    "4. Now use a 3 sigma decision rule to isolate the outliers in the normally distributed columns from lemonade.csv"
   ]
  },
  {
   "cell_type": "code",
   "execution_count": 8,
   "id": "bc46588f",
   "metadata": {},
   "outputs": [
    {
     "name": "stdout",
     "output_type": "stream",
     "text": [
      "41    8.336627\n",
      "Name: zscore_Temperature, dtype: float64\n",
      "0      4.286488\n",
      "15     3.081626\n",
      "338    3.629291\n",
      "343    3.629291\n",
      "364    6.112037\n",
      "Name: zscore_Rainfall, dtype: float64\n",
      "324   -5.665283\n",
      "Name: zscore_Flyers, dtype: float64\n",
      "181     3.720233\n",
      "182     4.204914\n",
      "183     6.692948\n",
      "184    16.354275\n",
      "Name: zscore_Sales, dtype: float64\n"
     ]
    }
   ],
   "source": [
    "col_list = ['Temperature','Rainfall','Flyers','Sales']\n",
    "for col in col_list:\n",
    "    df['zscore_' + col] = (df[col] - df[col].mean()) / df[col].std()\n",
    "for col in df.columns[7:]:\n",
    "    print(df[df[col].abs() > 3][col])"
   ]
  },
  {
   "cell_type": "code",
   "execution_count": null,
   "id": "5a9da69a",
   "metadata": {},
   "outputs": [],
   "source": []
  }
 ],
 "metadata": {
  "kernelspec": {
   "display_name": "Python 3 (ipykernel)",
   "language": "python",
   "name": "python3"
  },
  "language_info": {
   "codemirror_mode": {
    "name": "ipython",
    "version": 3
   },
   "file_extension": ".py",
   "mimetype": "text/x-python",
   "name": "python",
   "nbconvert_exporter": "python",
   "pygments_lexer": "ipython3",
   "version": "3.8.8"
  }
 },
 "nbformat": 4,
 "nbformat_minor": 5
}
